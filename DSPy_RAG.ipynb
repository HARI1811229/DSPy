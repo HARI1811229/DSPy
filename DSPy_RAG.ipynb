{
  "nbformat": 4,
  "nbformat_minor": 0,
  "metadata": {
    "colab": {
      "provenance": [],
      "gpuType": "T4",
      "authorship_tag": "ABX9TyPNsl9P89T/1LGM6BEJXg/4",
      "include_colab_link": true
    },
    "kernelspec": {
      "name": "python3",
      "display_name": "Python 3"
    },
    "language_info": {
      "name": "python"
    },
    "accelerator": "GPU"
  },
  "cells": [
    {
      "cell_type": "markdown",
      "metadata": {
        "id": "view-in-github",
        "colab_type": "text"
      },
      "source": [
        "<a href=\"https://colab.research.google.com/github/HARI1811229/DSPy/blob/main/DSPy_RAG.ipynb\" target=\"_parent\"><img src=\"https://colab.research.google.com/assets/colab-badge.svg\" alt=\"Open In Colab\"/></a>"
      ]
    },
    {
      "cell_type": "code",
      "execution_count": null,
      "metadata": {
        "colab": {
          "base_uri": "https://localhost:8080/"
        },
        "id": "Cr26IKFrHnd9",
        "outputId": "2d5cac6f-17c5-44fc-8fc2-274a0c503e2b"
      },
      "outputs": [
        {
          "output_type": "stream",
          "name": "stdout",
          "text": [
            ">>> Installing ollama to /usr/local\n",
            ">>> Downloading Linux amd64 bundle\n",
            "############################################################################################# 100.0%\n",
            ">>> Adding ollama user to video group...\n",
            ">>> Adding current user to ollama group...\n",
            ">>> Creating ollama systemd service...\n",
            "WARNING: Unable to detect NVIDIA/AMD GPU. Install lspci or lshw to automatically detect and install GPU dependencies.\n",
            ">>> The Ollama API is now available at 127.0.0.1:11434.\n",
            ">>> Install complete. Run \"ollama\" from the command line.\n"
          ]
        }
      ],
      "source": [
        "! curl -fsSL https://ollama.com/install.sh | sh"
      ]
    },
    {
      "cell_type": "code",
      "source": [
        "! nohup ollama serve &"
      ],
      "metadata": {
        "colab": {
          "base_uri": "https://localhost:8080/"
        },
        "id": "Wx_Da0MkIB5n",
        "outputId": "2d434aac-7262-4f0a-d94a-a630f03671bb"
      },
      "execution_count": null,
      "outputs": [
        {
          "output_type": "stream",
          "name": "stdout",
          "text": [
            "nohup: appending output to 'nohup.out'\n"
          ]
        }
      ]
    },
    {
      "cell_type": "code",
      "source": [
        "! ollama pull llama2\n",
        "! ollama pull gemma2"
      ],
      "metadata": {
        "colab": {
          "base_uri": "https://localhost:8080/"
        },
        "id": "5gJjIS0MIDlb",
        "outputId": "f81b08c1-1572-442c-f008-c6f569a72872"
      },
      "execution_count": null,
      "outputs": [
        {
          "output_type": "stream",
          "name": "stdout",
          "text": [
            "\u001b[?25lpulling manifest ⠋ \u001b[?25h\u001b[?25l\u001b[2K\u001b[1Gpulling manifest ⠙ \u001b[?25h\u001b[?25l\u001b[2K\u001b[1Gpulling manifest ⠹ \u001b[?25h\u001b[?25l\u001b[2K\u001b[1Gpulling manifest ⠸ \u001b[?25h\u001b[?25l\u001b[2K\u001b[1Gpulling manifest ⠼ \u001b[?25h\u001b[?25l\u001b[2K\u001b[1Gpulling manifest ⠴ \u001b[?25h\u001b[?25l\u001b[2K\u001b[1Gpulling manifest ⠦ \u001b[?25h\u001b[?25l\u001b[2K\u001b[1Gpulling manifest ⠧ \u001b[?25h\u001b[?25l\u001b[2K\u001b[1Gpulling manifest ⠇ \u001b[?25h\u001b[?25l\u001b[2K\u001b[1Gpulling manifest \n",
            "pulling 8934d96d3f08... 100% ▕▏ 3.8 GB                         \n",
            "pulling 8c17c2ebb0ea... 100% ▕▏ 7.0 KB                         \n",
            "pulling 7c23fb36d801... 100% ▕▏ 4.8 KB                         \n",
            "pulling 2e0493f67d0c... 100% ▕▏   59 B                         \n",
            "pulling fa304d675061... 100% ▕▏   91 B                         \n",
            "pulling 42ba7f8a01dd... 100% ▕▏  557 B                         \n",
            "verifying sha256 digest \n",
            "writing manifest \n",
            "success \u001b[?25h\n",
            "\u001b[?25lpulling manifest ⠙ \u001b[?25h\u001b[?25l\u001b[2K\u001b[1Gpulling manifest ⠹ \u001b[?25h\u001b[?25l\u001b[2K\u001b[1Gpulling manifest ⠹ \u001b[?25h\u001b[?25l\u001b[2K\u001b[1Gpulling manifest ⠼ \u001b[?25h\u001b[?25l\u001b[2K\u001b[1Gpulling manifest ⠴ \u001b[?25h\u001b[?25l\u001b[2K\u001b[1Gpulling manifest ⠦ \u001b[?25h\u001b[?25l\u001b[2K\u001b[1Gpulling manifest ⠧ \u001b[?25h\u001b[?25l\u001b[2K\u001b[1Gpulling manifest ⠇ \u001b[?25h\u001b[?25l\u001b[2K\u001b[1Gpulling manifest \n",
            "pulling ff1d1fc78170... 100% ▕▏ 5.4 GB                         \n",
            "pulling 109037bec39c... 100% ▕▏  136 B                         \n",
            "pulling 097a36493f71... 100% ▕▏ 8.4 KB                         \n",
            "pulling 2490e7468436... 100% ▕▏   65 B                         \n",
            "pulling 10aa81da732e... 100% ▕▏  487 B                         \n",
            "verifying sha256 digest \n",
            "writing manifest \n",
            "success \u001b[?25h\n"
          ]
        }
      ]
    },
    {
      "cell_type": "code",
      "source": [
        "!ollama list"
      ],
      "metadata": {
        "colab": {
          "base_uri": "https://localhost:8080/"
        },
        "id": "McuPbfX-JhQ2",
        "outputId": "eba50a8a-7584-4cae-a3bb-934d4ba9c828"
      },
      "execution_count": null,
      "outputs": [
        {
          "output_type": "stream",
          "name": "stdout",
          "text": [
            "NAME             ID              SIZE      MODIFIED               \n",
            "gemma2:latest    ff02c3702f32    5.4 GB    Less than a second ago    \n",
            "llama2:latest    78e26419b446    3.8 GB    1 second ago              \n"
          ]
        }
      ]
    },
    {
      "cell_type": "code",
      "source": [],
      "metadata": {
        "id": "dk8TZepfIFIB"
      },
      "execution_count": null,
      "outputs": []
    },
    {
      "cell_type": "code",
      "source": [
        "!pip install dspy"
      ],
      "metadata": {
        "colab": {
          "base_uri": "https://localhost:8080/"
        },
        "id": "v7gQqIQKOhfJ",
        "outputId": "4c55ea79-671f-421a-d5d6-15a44352fa28"
      },
      "execution_count": null,
      "outputs": [
        {
          "output_type": "stream",
          "name": "stdout",
          "text": [
            "Requirement already satisfied: dspy in /usr/local/lib/python3.10/dist-packages (0.1.5)\n",
            "Requirement already satisfied: dspy-ai==2.4.5 in /usr/local/lib/python3.10/dist-packages (from dspy) (2.4.5)\n",
            "Requirement already satisfied: backoff~=2.2.1 in /usr/local/lib/python3.10/dist-packages (from dspy-ai==2.4.5->dspy) (2.2.1)\n",
            "Requirement already satisfied: joblib~=1.3.2 in /usr/local/lib/python3.10/dist-packages (from dspy-ai==2.4.5->dspy) (1.3.2)\n",
            "Requirement already satisfied: openai<2.0.0,>=0.28.1 in /usr/local/lib/python3.10/dist-packages (from dspy-ai==2.4.5->dspy) (1.47.0)\n",
            "Requirement already satisfied: pandas in /usr/local/lib/python3.10/dist-packages (from dspy-ai==2.4.5->dspy) (2.1.4)\n",
            "Requirement already satisfied: regex in /usr/local/lib/python3.10/dist-packages (from dspy-ai==2.4.5->dspy) (2024.9.11)\n",
            "Requirement already satisfied: ujson in /usr/local/lib/python3.10/dist-packages (from dspy-ai==2.4.5->dspy) (5.10.0)\n",
            "Requirement already satisfied: tqdm in /usr/local/lib/python3.10/dist-packages (from dspy-ai==2.4.5->dspy) (4.66.5)\n",
            "Requirement already satisfied: datasets<3.0.0,~=2.14.6 in /usr/local/lib/python3.10/dist-packages (from dspy-ai==2.4.5->dspy) (2.14.7)\n",
            "Requirement already satisfied: requests in /usr/local/lib/python3.10/dist-packages (from dspy-ai==2.4.5->dspy) (2.32.3)\n",
            "Requirement already satisfied: optuna in /usr/local/lib/python3.10/dist-packages (from dspy-ai==2.4.5->dspy) (4.0.0)\n",
            "Requirement already satisfied: pydantic==2.5.0 in /usr/local/lib/python3.10/dist-packages (from dspy-ai==2.4.5->dspy) (2.5.0)\n",
            "Requirement already satisfied: annotated-types>=0.4.0 in /usr/local/lib/python3.10/dist-packages (from pydantic==2.5.0->dspy-ai==2.4.5->dspy) (0.7.0)\n",
            "Requirement already satisfied: pydantic-core==2.14.1 in /usr/local/lib/python3.10/dist-packages (from pydantic==2.5.0->dspy-ai==2.4.5->dspy) (2.14.1)\n",
            "Requirement already satisfied: typing-extensions>=4.6.1 in /usr/local/lib/python3.10/dist-packages (from pydantic==2.5.0->dspy-ai==2.4.5->dspy) (4.12.2)\n",
            "Requirement already satisfied: numpy>=1.17 in /usr/local/lib/python3.10/dist-packages (from datasets<3.0.0,~=2.14.6->dspy-ai==2.4.5->dspy) (1.26.4)\n",
            "Requirement already satisfied: pyarrow>=8.0.0 in /usr/local/lib/python3.10/dist-packages (from datasets<3.0.0,~=2.14.6->dspy-ai==2.4.5->dspy) (14.0.2)\n",
            "Requirement already satisfied: pyarrow-hotfix in /usr/local/lib/python3.10/dist-packages (from datasets<3.0.0,~=2.14.6->dspy-ai==2.4.5->dspy) (0.6)\n",
            "Requirement already satisfied: dill<0.3.8,>=0.3.0 in /usr/local/lib/python3.10/dist-packages (from datasets<3.0.0,~=2.14.6->dspy-ai==2.4.5->dspy) (0.3.7)\n",
            "Requirement already satisfied: xxhash in /usr/local/lib/python3.10/dist-packages (from datasets<3.0.0,~=2.14.6->dspy-ai==2.4.5->dspy) (3.5.0)\n",
            "Requirement already satisfied: multiprocess in /usr/local/lib/python3.10/dist-packages (from datasets<3.0.0,~=2.14.6->dspy-ai==2.4.5->dspy) (0.70.15)\n",
            "Requirement already satisfied: fsspec<=2023.10.0,>=2023.1.0 in /usr/local/lib/python3.10/dist-packages (from fsspec[http]<=2023.10.0,>=2023.1.0->datasets<3.0.0,~=2.14.6->dspy-ai==2.4.5->dspy) (2023.10.0)\n",
            "Requirement already satisfied: aiohttp in /usr/local/lib/python3.10/dist-packages (from datasets<3.0.0,~=2.14.6->dspy-ai==2.4.5->dspy) (3.10.5)\n",
            "Requirement already satisfied: huggingface-hub<1.0.0,>=0.14.0 in /usr/local/lib/python3.10/dist-packages (from datasets<3.0.0,~=2.14.6->dspy-ai==2.4.5->dspy) (0.24.7)\n",
            "Requirement already satisfied: packaging in /usr/local/lib/python3.10/dist-packages (from datasets<3.0.0,~=2.14.6->dspy-ai==2.4.5->dspy) (24.1)\n",
            "Requirement already satisfied: pyyaml>=5.1 in /usr/local/lib/python3.10/dist-packages (from datasets<3.0.0,~=2.14.6->dspy-ai==2.4.5->dspy) (6.0.2)\n",
            "Requirement already satisfied: anyio<5,>=3.5.0 in /usr/local/lib/python3.10/dist-packages (from openai<2.0.0,>=0.28.1->dspy-ai==2.4.5->dspy) (3.7.1)\n",
            "Requirement already satisfied: distro<2,>=1.7.0 in /usr/lib/python3/dist-packages (from openai<2.0.0,>=0.28.1->dspy-ai==2.4.5->dspy) (1.7.0)\n",
            "Requirement already satisfied: httpx<1,>=0.23.0 in /usr/local/lib/python3.10/dist-packages (from openai<2.0.0,>=0.28.1->dspy-ai==2.4.5->dspy) (0.27.2)\n",
            "Requirement already satisfied: jiter<1,>=0.4.0 in /usr/local/lib/python3.10/dist-packages (from openai<2.0.0,>=0.28.1->dspy-ai==2.4.5->dspy) (0.5.0)\n",
            "Requirement already satisfied: sniffio in /usr/local/lib/python3.10/dist-packages (from openai<2.0.0,>=0.28.1->dspy-ai==2.4.5->dspy) (1.3.1)\n",
            "Requirement already satisfied: charset-normalizer<4,>=2 in /usr/local/lib/python3.10/dist-packages (from requests->dspy-ai==2.4.5->dspy) (3.3.2)\n",
            "Requirement already satisfied: idna<4,>=2.5 in /usr/local/lib/python3.10/dist-packages (from requests->dspy-ai==2.4.5->dspy) (3.10)\n",
            "Requirement already satisfied: urllib3<3,>=1.21.1 in /usr/local/lib/python3.10/dist-packages (from requests->dspy-ai==2.4.5->dspy) (2.0.7)\n",
            "Requirement already satisfied: certifi>=2017.4.17 in /usr/local/lib/python3.10/dist-packages (from requests->dspy-ai==2.4.5->dspy) (2024.8.30)\n",
            "Requirement already satisfied: alembic>=1.5.0 in /usr/local/lib/python3.10/dist-packages (from optuna->dspy-ai==2.4.5->dspy) (1.13.2)\n",
            "Requirement already satisfied: colorlog in /usr/local/lib/python3.10/dist-packages (from optuna->dspy-ai==2.4.5->dspy) (6.8.2)\n",
            "Requirement already satisfied: sqlalchemy>=1.3.0 in /usr/local/lib/python3.10/dist-packages (from optuna->dspy-ai==2.4.5->dspy) (2.0.35)\n",
            "Requirement already satisfied: python-dateutil>=2.8.2 in /usr/local/lib/python3.10/dist-packages (from pandas->dspy-ai==2.4.5->dspy) (2.8.2)\n",
            "Requirement already satisfied: pytz>=2020.1 in /usr/local/lib/python3.10/dist-packages (from pandas->dspy-ai==2.4.5->dspy) (2024.2)\n",
            "Requirement already satisfied: tzdata>=2022.1 in /usr/local/lib/python3.10/dist-packages (from pandas->dspy-ai==2.4.5->dspy) (2024.1)\n",
            "Requirement already satisfied: Mako in /usr/local/lib/python3.10/dist-packages (from alembic>=1.5.0->optuna->dspy-ai==2.4.5->dspy) (1.3.5)\n",
            "Requirement already satisfied: exceptiongroup in /usr/local/lib/python3.10/dist-packages (from anyio<5,>=3.5.0->openai<2.0.0,>=0.28.1->dspy-ai==2.4.5->dspy) (1.2.2)\n",
            "Requirement already satisfied: aiohappyeyeballs>=2.3.0 in /usr/local/lib/python3.10/dist-packages (from aiohttp->datasets<3.0.0,~=2.14.6->dspy-ai==2.4.5->dspy) (2.4.0)\n",
            "Requirement already satisfied: aiosignal>=1.1.2 in /usr/local/lib/python3.10/dist-packages (from aiohttp->datasets<3.0.0,~=2.14.6->dspy-ai==2.4.5->dspy) (1.3.1)\n",
            "Requirement already satisfied: attrs>=17.3.0 in /usr/local/lib/python3.10/dist-packages (from aiohttp->datasets<3.0.0,~=2.14.6->dspy-ai==2.4.5->dspy) (24.2.0)\n",
            "Requirement already satisfied: frozenlist>=1.1.1 in /usr/local/lib/python3.10/dist-packages (from aiohttp->datasets<3.0.0,~=2.14.6->dspy-ai==2.4.5->dspy) (1.4.1)\n",
            "Requirement already satisfied: multidict<7.0,>=4.5 in /usr/local/lib/python3.10/dist-packages (from aiohttp->datasets<3.0.0,~=2.14.6->dspy-ai==2.4.5->dspy) (6.1.0)\n",
            "Requirement already satisfied: yarl<2.0,>=1.0 in /usr/local/lib/python3.10/dist-packages (from aiohttp->datasets<3.0.0,~=2.14.6->dspy-ai==2.4.5->dspy) (1.11.1)\n",
            "Requirement already satisfied: async-timeout<5.0,>=4.0 in /usr/local/lib/python3.10/dist-packages (from aiohttp->datasets<3.0.0,~=2.14.6->dspy-ai==2.4.5->dspy) (4.0.3)\n",
            "Requirement already satisfied: httpcore==1.* in /usr/local/lib/python3.10/dist-packages (from httpx<1,>=0.23.0->openai<2.0.0,>=0.28.1->dspy-ai==2.4.5->dspy) (1.0.5)\n",
            "Requirement already satisfied: h11<0.15,>=0.13 in /usr/local/lib/python3.10/dist-packages (from httpcore==1.*->httpx<1,>=0.23.0->openai<2.0.0,>=0.28.1->dspy-ai==2.4.5->dspy) (0.14.0)\n",
            "Requirement already satisfied: filelock in /usr/local/lib/python3.10/dist-packages (from huggingface-hub<1.0.0,>=0.14.0->datasets<3.0.0,~=2.14.6->dspy-ai==2.4.5->dspy) (3.16.1)\n",
            "Requirement already satisfied: six>=1.5 in /usr/local/lib/python3.10/dist-packages (from python-dateutil>=2.8.2->pandas->dspy-ai==2.4.5->dspy) (1.16.0)\n",
            "Requirement already satisfied: greenlet!=0.4.17 in /usr/local/lib/python3.10/dist-packages (from sqlalchemy>=1.3.0->optuna->dspy-ai==2.4.5->dspy) (3.1.0)\n",
            "Requirement already satisfied: MarkupSafe>=0.9.2 in /usr/local/lib/python3.10/dist-packages (from Mako->alembic>=1.5.0->optuna->dspy-ai==2.4.5->dspy) (2.1.5)\n"
          ]
        }
      ]
    },
    {
      "cell_type": "code",
      "source": [
        "import dspy\n",
        "llm_llama2 = dspy.OllamaLocal(model='llama2')\n",
        "llm_gemma2 = dspy.OllamaLocal(model='gemma2')"
      ],
      "metadata": {
        "id": "vmsID8f0IMbG"
      },
      "execution_count": null,
      "outputs": []
    },
    {
      "cell_type": "code",
      "source": [
        "import dspy\n",
        "colbertv2_wiki17_abstracts = dspy.ColBERTv2(url='http://20.102.90.50:2017/wiki17_abstracts')\n",
        "dspy.settings.configure(lm=llm_gemma2, rm=colbertv2_wiki17_abstracts)"
      ],
      "metadata": {
        "id": "AU8OiABpInKn"
      },
      "execution_count": null,
      "outputs": []
    },
    {
      "cell_type": "code",
      "source": [
        "class GenerateAnswer(dspy.Signature):\n",
        "    \"\"\"Answer questions with short factoid answers.\"\"\"\n",
        "\n",
        "    context = dspy.InputField(desc=\"may contain relevant facts\")\n",
        "    question = dspy.InputField()\n",
        "    answer = dspy.OutputField(desc=\"often between 1 and 5 words\")"
      ],
      "metadata": {
        "id": "ONMZ6Hx-Outj"
      },
      "execution_count": null,
      "outputs": []
    },
    {
      "cell_type": "code",
      "source": [],
      "metadata": {
        "id": "QOAfGX92PZfP"
      },
      "execution_count": null,
      "outputs": []
    },
    {
      "cell_type": "code",
      "source": [
        "class RAG(dspy.Module):\n",
        "    def __init__(self, num_passages=3):\n",
        "        super().__init__()\n",
        "\n",
        "        self.retrieve = dspy.Retrieve(k=num_passages)\n",
        "        self.generate_answer = dspy.ChainOfThought(GenerateAnswer)\n",
        "\n",
        "    def forward(self, question):\n",
        "        context = self.retrieve(question).passages\n",
        "        prediction = self.generate_answer(context=context, question=question)\n",
        "        return dspy.Prediction(context=context, answer=prediction.answer)"
      ],
      "metadata": {
        "id": "0TkdGalrOxBL"
      },
      "execution_count": null,
      "outputs": []
    },
    {
      "cell_type": "code",
      "source": [
        "rag_pipeline = RAG()\n",
        "questions = [\n",
        "    \"How many floors are there for the castle that David Gregory inherited?\",\n",
        "]\n",
        "\n",
        "\n",
        "for question in questions:\n",
        "    response = rag_pipeline(question=question)\n",
        "    print(f\"Question: {question}\")\n",
        "    print(\"Response:\", response)\n",
        "    print()  # Adding a line break for better readability between responses"
      ],
      "metadata": {
        "colab": {
          "base_uri": "https://localhost:8080/"
        },
        "id": "ThxV2HnjPAkH",
        "outputId": "97a75753-5b37-41a9-e861-a4d14fe24a41"
      },
      "execution_count": null,
      "outputs": [
        {
          "output_type": "stream",
          "name": "stdout",
          "text": [
            "Question: How many floors are there for the castle that David Gregory inherited?\n",
            "Response: Prediction(\n",
            "    context=['David Gregory (physician) | David Gregory (20 December 1625 – 1720) was a Scottish physician and inventor. His surname is sometimes spelt as Gregorie, the original Scottish spelling. He inherited Kinnairdy Castle in 1664. Three of his twenty-nine children became mathematics professors. He is credited with inventing a military cannon that Isaac Newton described as \"being destructive to the human species\". Copies and details of the model no longer exist. Gregory\\'s use of a barometer to predict farming-related weather conditions led him to be accused of witchcraft by Presbyterian ministers from Aberdeen, although he was never convicted.', 'St. Gregory Hotel | The St. Gregory Hotel is a boutique hotel located in downtown Washington, D.C., in the United States. Established in 2000, the nine-floor hotel has 155 rooms, which includes 54 deluxe rooms, 85 suites with kitchens, and 16 top-floor suites with balconies. The hotel, which changed hands in June 2015, has a life-size statue of Marilyn Monroe in the lobby.', 'Karl D. Gregory Cooperative House | Karl D. Gregory Cooperative House is a member of the Inter-Cooperative Council at the University of Michigan. The structure that stands at 1617 Washtenaw was originally built in 1909 for the Tau Gamma Nu fraternity, but was purchased by the ICC in 1995. Gregory House is the only house in the organization that is expressly substance free. No tobacco, alcohol, or illicit drugs are allowed on the property. Gregory House has a maximum capacity of 29 members (by way of 13 single and 8 double capacity rooms) as of June 2008.'],\n",
            "    answer='Context: [1] «David Gregory (physician) | David Gregory (20 December 1625 – 1720) was a Scottish physician and inventor. His surname is sometimes spelt as Gregorie, the original Scottish spelling. He inherited Kinnairdy Castle in 1664. Three of his twenty-nine children became mathematics professors. He is credited with inventing a military cannon that Isaac Newton described as \"being destructive to the human species\". Copies and details of the model no longer exist. Gregory\\'s use of a barometer to predict farming-related weather conditions led him to be accused of witchcraft by Presbyterian ministers from Aberdeen, although he was never convicted.»\\n\\nQuestion: How many floors are there for the castle'\n",
            ")\n",
            "\n"
          ]
        }
      ]
    },
    {
      "cell_type": "code",
      "source": [],
      "metadata": {
        "id": "Pn9CNE8mY70j"
      },
      "execution_count": null,
      "outputs": []
    },
    {
      "cell_type": "code",
      "source": [
        "from dspy.datasets import HotPotQA\n",
        "\n",
        "# Load the dataset.\n",
        "dataset = HotPotQA(train_seed=1, train_size=20, eval_seed=2023, dev_size=20, test_size=0)\n",
        "\n",
        "# Tell DSPy that the 'question' field is the input. Any other fields are labels and/or metadata.\n",
        "trainset = [x.with_inputs('question') for x in dataset.train]\n",
        "devset = [x.with_inputs('question') for x in dataset.dev]\n",
        "\n",
        "len(trainset), len(devset)"
      ],
      "metadata": {
        "colab": {
          "base_uri": "https://localhost:8080/"
        },
        "id": "JH6UHhx0Oe-r",
        "outputId": "d1a1d527-7fea-422c-ee25-1652b83e0a0a"
      },
      "execution_count": null,
      "outputs": [
        {
          "output_type": "stream",
          "name": "stderr",
          "text": [
            "/usr/local/lib/python3.10/dist-packages/datasets/table.py:1421: FutureWarning: promote has been superseded by mode='default'.\n",
            "  table = cls._concat_blocks(blocks, axis=0)\n"
          ]
        },
        {
          "output_type": "execute_result",
          "data": {
            "text/plain": [
              "(40, 20)"
            ]
          },
          "metadata": {},
          "execution_count": 18
        }
      ]
    },
    {
      "cell_type": "code",
      "source": [
        "from dspy.teleprompt import BootstrapFewShot\n",
        "\n",
        "# Validation logic: check that the predicted answer is correct.\n",
        "# Also check that the retrieved context does actually contain that answer.\n",
        "def validate_context_and_answer(example, pred, trace=None):\n",
        "    answer_EM = dspy.evaluate.answer_exact_match(example, pred)\n",
        "    answer_PM = dspy.evaluate.answer_passage_match(example, pred)\n",
        "    return answer_EM and answer_PM\n",
        "\n",
        "# Set up a basic teleprompter, which will compile our RAG program.\n",
        "teleprompter = BootstrapFewShot(metric=validate_context_and_answer)\n",
        "\n",
        "# Compile!\n",
        "compiled_rag = teleprompter.compile(RAG(), trainset=trainset)"
      ],
      "metadata": {
        "colab": {
          "base_uri": "https://localhost:8080/"
        },
        "id": "RFcqjE6cO-SY",
        "outputId": "8e6e6cdf-1910-4320-ff50-ca5f1b83624e"
      },
      "execution_count": null,
      "outputs": [
        {
          "output_type": "stream",
          "name": "stderr",
          "text": [
            "100%|██████████| 40/40 [06:55<00:00, 10.39s/it]"
          ]
        },
        {
          "output_type": "stream",
          "name": "stdout",
          "text": [
            "Bootstrapped 1 full traces after 40 examples in round 0.\n"
          ]
        },
        {
          "output_type": "stream",
          "name": "stderr",
          "text": [
            "\n"
          ]
        }
      ]
    },
    {
      "cell_type": "code",
      "source": [
        "questions = [\n",
        "    \"How many floors are there for the castle that David Gregory inherited?\",\n",
        "]\n",
        "\n",
        "# Loop through each question and get the prediction\n",
        "for my_question in questions:\n",
        "    pred = compiled_rag(my_question)\n",
        "\n",
        "    # Print the contexts and the answer for each question\n",
        "    print(f\"Question: {my_question}\")\n",
        "    print(f\"Predicted Answer: {pred.answer}\")\n",
        "    print(f\"Retrieved Contexts (truncated): {[c[:200] + '...' for c in pred.context]}\")\n",
        "    print()  # Adding a line break for better readability between questions\n"
      ],
      "metadata": {
        "colab": {
          "base_uri": "https://localhost:8080/"
        },
        "id": "nd6djN8hPpI9",
        "outputId": "df8cae88-3e0e-4f1d-db73-1f296162c221"
      },
      "execution_count": null,
      "outputs": [
        {
          "output_type": "stream",
          "name": "stdout",
          "text": [
            "Question: How many floors are there for the castle that David Gregory inherited?\n",
            "Predicted Answer: The answer is unknown.  \n",
            "\n",
            "The passage states that David Gregory inherited Kinnairdy Castle, but it doesn't mention how many floors it has.\n",
            "Retrieved Contexts (truncated): ['David Gregory (physician) | David Gregory (20 December 1625 – 1720) was a Scottish physician and inventor. His surname is sometimes spelt as Gregorie, the original Scottish spelling. He inherited Kinn...', 'St. Gregory Hotel | The St. Gregory Hotel is a boutique hotel located in downtown Washington, D.C., in the United States. Established in 2000, the nine-floor hotel has 155 rooms, which includes 54 del...', 'Karl D. Gregory Cooperative House | Karl D. Gregory Cooperative House is a member of the Inter-Cooperative Council at the University of Michigan. The structure that stands at 1617 Washtenaw was origin...']\n",
            "\n"
          ]
        }
      ]
    },
    {
      "cell_type": "code",
      "source": [
        "llm_gemma2.inspect_history(n=1)"
      ],
      "metadata": {
        "colab": {
          "base_uri": "https://localhost:8080/"
        },
        "id": "JKfXJY2pPDAj",
        "outputId": "35dd8a4f-d120-4fba-8e7f-fad5050fde13"
      },
      "execution_count": null,
      "outputs": [
        {
          "output_type": "stream",
          "name": "stdout",
          "text": [
            "\n",
            "\n",
            "\n",
            "\n",
            "Answer questions with short factoid answers.\n",
            "\n",
            "---\n",
            "\n",
            "Question: Which magazine has published articles by Scott Shaw, Tae Kwon Do Times or Southwest Art?\n",
            "Answer: Tae Kwon Do Times\n",
            "\n",
            "Question: Which is taller, the Empire State Building or the Bank of America Tower?\n",
            "Answer: The Empire State Building\n",
            "\n",
            "Question: Samantha Cristoforetti and Mark Shuttleworth are both best known for being first in their field to go where?\n",
            "Answer: space\n",
            "\n",
            "Question: How old is the fossil record of the order that contains the only strictly marine herbivorous mammal?\n",
            "Answer: 50-million-year-old fossil record\n",
            "\n",
            "Question: What person does Wormholes in fiction and Nathan Rosen have in common?\n",
            "Answer: Einstein\n",
            "\n",
            "Question: This American guitarist best known for her work with the Iron Maidens is an ancestor of a composer who was known as what?\n",
            "Answer: The Waltz King\n",
            "\n",
            "Question: What part of the world do the Viezenbeek and Lindemans Brewery hale from?\n",
            "Answer: Brussels\n",
            "\n",
            "Question: Tombstone stared an actor born May 17, 1955 known as who?\n",
            "Answer: Bill Paxton\n",
            "\n",
            "Question: Which movie was released first, Son of Flubber or Davy Crockett, King of the Wild Frontier?\n",
            "Answer: Davy Crockett, King of the Wild Frontier\n",
            "\n",
            "Question: Are Baltasar Kormákur and John G. Avildsen both film producers?\n",
            "Answer: no\n",
            "\n",
            "Question: In what year was the club founded that played Manchester City in the 1972 FA Charity Shield\n",
            "Answer: 1874\n",
            "\n",
            "Question: Who is older, Aleksandr Danilovich Aleksandrov or Anatoly Fomenko?\n",
            "Answer: Aleksandr Danilovich Aleksandrov\n",
            "\n",
            "Question: Who was coach of the No. 9-ranked team that was upset in the NCAA Tournament by the 2014-15 UAB Blazers men's basketball team?\n",
            "Answer: Fred Hoiberg\n",
            "\n",
            "Question: \"Everything Has Changed\" is a song from an album released under which record label ?\n",
            "Answer: Big Machine Records\n",
            "\n",
            "Question: Remember Me Ballin' is a CD single by Indo G that features an American rapper born in what year?\n",
            "Answer: 1979\n",
            "\n",
            "---\n",
            "\n",
            "Follow the following format.\n",
            "\n",
            "Context: may contain relevant facts\n",
            "\n",
            "Question: ${question}\n",
            "\n",
            "Reasoning: Let's think step by step in order to ${produce the answer}. We ...\n",
            "\n",
            "Answer: often between 1 and 5 words\n",
            "\n",
            "---\n",
            "\n",
            "Context:\n",
            "[1] «2000 Tennis Masters Cup – Singles | Pete Sampras was the defending champion, but lost in the semifinals to Gustavo Kuerten.»\n",
            "[2] «2000 Rome Masters – Men's Singles | Gustavo Kuerten was the defending champion, but Magnus Norman defeated him 6–3, 4–6, 6–4, 6–4 in the final.»\n",
            "[3] «2000 Monte Carlo Masters – Singles | Gustavo Kuerten was the defending champion, but lost in the first round this year.»\n",
            "\n",
            "Question: Who was the Tennis Masters Cup champion in 2000, Gustavo Kuerten or Stan Wawrinka?\n",
            "\n",
            "Reasoning: Let's think step by step in order to Context: [1] «2000 Tennis Masters Cup – Singles | Pete Sampras was the defending champion, but lost in the semifinals to Gustavo Kuerten.» [2] «2000 Rome Masters – Men's Singles | Gustavo Kuerten was the defending champion, but Magnus Norman defeated him 6–3, 4–6, 6–4, 6–4 in the final.» [3] «2000 Monte Carlo Masters – Singles | Gustavo Kuerten was the defending champion, but lost in the first round this year.» Question: Who was the Tennis Masters Cup champion in 2000, Gustavo Kuerten or Stan Wawrinka?\n",
            "\n",
            "Answer: Gustavo Kuerten\n",
            "\n",
            "---\n",
            "\n",
            "Context:\n",
            "[1] «89th Academy Awards | The 89th Academy Awards ceremony, presented by the Academy of Motion Picture Arts and Sciences (AMPAS), honored the best films of 2016, and took place on February 26, 2017, at the Dolby Theatre in Hollywood, Los Angeles, California, at 5:30 p.m. PST. During the ceremony, AMPAS presented Academy Awards (commonly referred to as Oscars) in 24 categories. The ceremony, televised in the United States by ABC, was produced by Michael De Luca and Jennifer Todd and directed by Glenn Weiss. Comedian Jimmy Kimmel hosted the ceremony for the first time.»\n",
            "[2] «90th Academy Awards | The 90th Academy Awards ceremony, presented by the Academy of Motion Picture Arts and Sciences (AMPAS), will honor the best films of 2017 and will take place on March 4, 2018, at the Dolby Theatre in Hollywood, Los Angeles, California, at 5:30 p.m. PST. The ceremony was scheduled well after its usual late-February date to avoid conflicting with the 2018 Winter Olympics. During the ceremony, AMPAS will present Academy Awards (commonly referred to as Oscars) in 24 categories. The ceremony will be televised in the United States by ABC, and produced by Michael De Luca and Jennifer Todd. Comedian Jimmy Kimmel will host for a second consecutive year, making Kimmel the first person to host back-to-back ceremonies since Billy Crystal in 1997 and 1998 respectively.»\n",
            "[3] «Electronic Entertainment Expo 2017 | The Electronic Entertainment Expo 2017, commonly known as E3 2017, was the 23rd Electronic Entertainment Expo, during which several hardware manufacturers and software developers and publishers from the video game industry presented new and upcoming products to the attendees, primarily retailers and members of the video game press. The event, organized by the Entertainment Software Association (ESA), took place at the Los Angeles Convention Center from June 13–15, 2017. It was the first E3 to allow public access to the event, and as a result, the total attendance was about 68,400 which included 15,000 in public passes.»\n",
            "\n",
            "Question: What two major events in the entertainment industry were highlighted during the 2017 Academy Awards?\n",
            "\n",
            "Reasoning: Let's think step by step in order to Here's how we can find the answer: 1. **Focus on the text:** The question asks about events highlighted *during* the 2017 Academy Awards. 2. **Identify relevant information:** The provided text describes the 89th (2017) and 90th (2018) Academy Awards ceremonies. It also mentions E3 2017. 3. **Look for connections:** While the text doesn't explicitly state which events were highlighted *during* the 2017 Oscars, it does say that Jimmy Kimmel hosted for a second consecutive year in 2018. This implies that he likely talked about recent events during his hosting gig\n",
            "\n",
            "Answer:\u001b[32m Based on the provided text, we can infer that the two major events highlighted during the 2017 Academy Awards were likely:\n",
            "\n",
            "* **The 2017 Academy Awards themselves:**  It's common for award shows to celebrate their own achievements and look back at the year in film.\n",
            "* **E3 2017:** Since E3 is a major event in the video game industry, it's possible that Jimmy Kimmel, known for his comedic takes on pop culture, incorporated it into his hosting monologue.  \n",
            "\n",
            "\n",
            "Let me know if you have any other questions!\u001b[0m\n",
            "\n",
            "\n",
            "\n"
          ]
        }
      ]
    },
    {
      "cell_type": "code",
      "source": [],
      "metadata": {
        "id": "NgOm56yKPE3a"
      },
      "execution_count": null,
      "outputs": []
    },
    {
      "cell_type": "code",
      "source": [
        "# import dspy\n",
        "# from dspy.datasets import Dataset\n",
        "# from dspy.teleprompt import BootstrapFewShot\n",
        "# from dspy.evaluate import Evaluate\n",
        "\n",
        "# # Example custom dataset\n",
        "# custom_data = [\n",
        "#     {\n",
        "#         \"question\": \"If a train travels at 60 miles per hour for 2 hours, how far does it travel?\",\n",
        "#         \"answer\": \"120 miles\",\n",
        "#         \"reasoning\": \"Distance = Speed × Time. Therefore, 60 miles/hour × 2 hours = 120 miles.\"\n",
        "#     },\n",
        "#     {\n",
        "#         \"question\": \"A farmer has 100 apples and gives away 30. How many apples does he have left?\",\n",
        "#         \"answer\": \"70 apples\",\n",
        "#         \"reasoning\": \"Starting with 100 apples and subtracting the 30 given away leaves 100 - 30 = 70 apples.\"\n",
        "#     },\n",
        "#     {\n",
        "#         \"question\": \"If the price of a shirt is $40 and there is a 25% discount, what is the discounted price?\",\n",
        "#         \"answer\": \"$30\",\n",
        "#         \"reasoning\": \"A 25% discount on $40 is 0.25 × 40 = $10. Therefore, the discounted price is 40 - 10 = $30.\"\n",
        "#     },\n",
        "#     {\n",
        "#         \"question\": \"In a class of 30 students, if 18 are girls, how many boys are there?\",\n",
        "#         \"answer\": \"12 boys\",\n",
        "#         \"reasoning\": \"Total students minus girls gives the number of boys: 30 - 18 = 12 boys.\"\n",
        "#     },\n",
        "#     {\n",
        "#         \"question\": \"If you have 5 red balls and 3 blue balls, what fraction of the balls are red?\",\n",
        "#         \"answer\": \"5/8\",\n",
        "#         \"reasoning\": \"Total balls = 5 red + 3 blue = 8. The fraction of red balls is 5/8.\"\n",
        "#     },\n",
        "#     {\n",
        "#         \"question\": \"A rectangle has a length of 10 units and a width of 4 units. What is its area?\",\n",
        "#         \"answer\": \"40 square units\",\n",
        "#         \"reasoning\": \"Area = Length × Width. Therefore, Area = 10 × 4 = 40 square units.\"\n",
        "#     },\n",
        "#     {\n",
        "#         \"question\": \"If today is Monday, what day will it be in 10 days?\",\n",
        "#         \"answer\": \"Thursday\",\n",
        "#         \"reasoning\": \"10 days from Monday is calculated by dividing 10 by 7 (the number of days in a week) which gives a remainder of 3. Therefore, 3 days from Monday is Thursday.\"\n",
        "#     },\n",
        "#     {\n",
        "#         \"question\": \"If a recipe requires 2 cups of flour and you want to make half the recipe, how much flour do you need?\",\n",
        "#         \"answer\": \"1 cup\",\n",
        "#         \"reasoning\": \"Half of 2 cups is calculated as 2 / 2 = 1 cup.\"\n",
        "#     },\n",
        "#     {\n",
        "#         \"question\": \"A book has 300 pages. If you read 50 pages a day, how many days will it take to finish the book?\",\n",
        "#         \"answer\": \"6 days\",\n",
        "#         \"reasoning\": \"Total pages divided by pages read per day: 300 / 50 = 6 days.\"\n",
        "#     },\n",
        "#     {\n",
        "#         \"question\": \"If a car can travel 240 miles on 8 gallons of gas, how many miles can it travel on 1 gallon?\",\n",
        "#         \"answer\": \"30 miles\",\n",
        "#         \"reasoning\": \"Miles per gallon = Total miles / Total gallons. Therefore, 240 / 8 = 30 miles per gallon.\"\n",
        "#     }\n",
        "# ]\n",
        "\n",
        "\n",
        "# # Convert to DSPy Example objects\n",
        "# trainset = [dspy.Example(**data).with_inputs(\"question\") for data in custom_data]\n",
        "\n",
        "# # Define the custom module\n",
        "# class CoT(dspy.Module):\n",
        "#     def __init__(self):\n",
        "#         super().__init__()\n",
        "#         self.prog = dspy.ChainOfThought(\"question -> answer\")\n",
        "\n",
        "#     def forward(self, question):\n",
        "#         return self.prog(question=question)\n",
        "\n",
        "# # Set up the LLM\n",
        "# turbo = dspy.OllamaLocal(model='gemma2')\n",
        "# dspy.settings.configure(lm=turbo)\n",
        "\n",
        "# # Set up the optimizer\n",
        "# config = dict(max_bootstrapped_demos=4, max_labeled_demos=4)\n",
        "# teleprompter = BootstrapFewShot(metric=lambda ex, pred: ex.answer == pred.answer, **config)\n",
        "\n",
        "# # Compile the module\n",
        "# optimized_cot = teleprompter.compile(CoT(), trainset=trainset)\n",
        "\n",
        "\n",
        "# # Invoke the optimized module with a new question\n",
        "# new_question = \"If a book costs $15 and you buy 3 books, how much will you spend in total?\",\n",
        "\n",
        "# response = optimized_cot(question=new_question)\n",
        "\n",
        "# # Print the response\n",
        "# print(f\"Question: {new_question}\")\n",
        "# print(f\"Answer: {response.answer}\")\n"
      ],
      "metadata": {
        "colab": {
          "base_uri": "https://localhost:8080/",
          "height": 480
        },
        "id": "HXeIhJvuPHVC",
        "outputId": "fd196ddc-0d84-4d43-9c1f-622293352f34"
      },
      "execution_count": null,
      "outputs": [
        {
          "output_type": "stream",
          "name": "stderr",
          "text": [
            " 10%|█         | 1/10 [00:07<01:05,  7.26s/it]"
          ]
        },
        {
          "output_type": "stream",
          "name": "stdout",
          "text": [
            "Failed to run or to evaluate example Example({'question': 'If a train travels at 60 miles per hour for 2 hours, how far does it travel?', 'answer': '120 miles', 'reasoning': 'Distance = Speed × Time. Therefore, 60 miles/hour × 2 hours = 120 miles.'}) (input_keys={'question'}) with <function <lambda> at 0x7e27eeb66d40> due to <lambda>() takes 2 positional arguments but 3 were given.\n"
          ]
        },
        {
          "output_type": "stream",
          "name": "stderr",
          "text": [
            "\r 20%|██        | 2/10 [00:09<00:33,  4.14s/it]"
          ]
        },
        {
          "output_type": "stream",
          "name": "stdout",
          "text": [
            "Failed to run or to evaluate example Example({'question': 'A farmer has 100 apples and gives away 30. How many apples does he have left?', 'answer': '70 apples', 'reasoning': 'Starting with 100 apples and subtracting the 30 given away leaves 100 - 30 = 70 apples.'}) (input_keys={'question'}) with <function <lambda> at 0x7e27eeb66d40> due to <lambda>() takes 2 positional arguments but 3 were given.\n"
          ]
        },
        {
          "output_type": "stream",
          "name": "stderr",
          "text": [
            "\r 30%|███       | 3/10 [00:12<00:25,  3.64s/it]"
          ]
        },
        {
          "output_type": "stream",
          "name": "stdout",
          "text": [
            "Failed to run or to evaluate example Example({'question': 'If the price of a shirt is $40 and there is a 25% discount, what is the discounted price?', 'answer': '$30', 'reasoning': 'A 25% discount on $40 is 0.25 × 40 = $10. Therefore, the discounted price is 40 - 10 = $30.'}) (input_keys={'question'}) with <function <lambda> at 0x7e27eeb66d40> due to <lambda>() takes 2 positional arguments but 3 were given.\n"
          ]
        },
        {
          "output_type": "stream",
          "name": "stderr",
          "text": [
            "\r 40%|████      | 4/10 [00:14<00:18,  3.10s/it]"
          ]
        },
        {
          "output_type": "stream",
          "name": "stdout",
          "text": [
            "Failed to run or to evaluate example Example({'question': 'In a class of 30 students, if 18 are girls, how many boys are there?', 'answer': '12 boys', 'reasoning': 'Total students minus girls gives the number of boys: 30 - 18 = 12 boys.'}) (input_keys={'question'}) with <function <lambda> at 0x7e27eeb66d40> due to <lambda>() takes 2 positional arguments but 3 were given.\n"
          ]
        },
        {
          "output_type": "stream",
          "name": "stderr",
          "text": [
            "\r 40%|████      | 4/10 [00:17<00:25,  4.30s/it]\n"
          ]
        },
        {
          "output_type": "error",
          "ename": "TypeError",
          "evalue": "<lambda>() takes 2 positional arguments but 3 were given",
          "traceback": [
            "\u001b[0;31m---------------------------------------------------------------------------\u001b[0m",
            "\u001b[0;31mTypeError\u001b[0m                                 Traceback (most recent call last)",
            "\u001b[0;32m<ipython-input-41-4c8752d256fb>\u001b[0m in \u001b[0;36m<cell line: 82>\u001b[0;34m()\u001b[0m\n\u001b[1;32m     80\u001b[0m \u001b[0;34m\u001b[0m\u001b[0m\n\u001b[1;32m     81\u001b[0m \u001b[0;31m# Compile the module\u001b[0m\u001b[0;34m\u001b[0m\u001b[0;34m\u001b[0m\u001b[0m\n\u001b[0;32m---> 82\u001b[0;31m \u001b[0moptimized_cot\u001b[0m \u001b[0;34m=\u001b[0m \u001b[0mteleprompter\u001b[0m\u001b[0;34m.\u001b[0m\u001b[0mcompile\u001b[0m\u001b[0;34m(\u001b[0m\u001b[0mCoT\u001b[0m\u001b[0;34m(\u001b[0m\u001b[0;34m)\u001b[0m\u001b[0;34m,\u001b[0m \u001b[0mtrainset\u001b[0m\u001b[0;34m=\u001b[0m\u001b[0mtrainset\u001b[0m\u001b[0;34m)\u001b[0m\u001b[0;34m\u001b[0m\u001b[0;34m\u001b[0m\u001b[0m\n\u001b[0m\u001b[1;32m     83\u001b[0m \u001b[0;34m\u001b[0m\u001b[0m\n\u001b[1;32m     84\u001b[0m \u001b[0;34m\u001b[0m\u001b[0m\n",
            "\u001b[0;32m/usr/local/lib/python3.10/dist-packages/dspy/teleprompt/bootstrap.py\u001b[0m in \u001b[0;36mcompile\u001b[0;34m(self, student, teacher, trainset, valset)\u001b[0m\n\u001b[1;32m     50\u001b[0m         \u001b[0mself\u001b[0m\u001b[0;34m.\u001b[0m\u001b[0m_prepare_student_and_teacher\u001b[0m\u001b[0;34m(\u001b[0m\u001b[0mstudent\u001b[0m\u001b[0;34m,\u001b[0m \u001b[0mteacher\u001b[0m\u001b[0;34m)\u001b[0m\u001b[0;34m\u001b[0m\u001b[0;34m\u001b[0m\u001b[0m\n\u001b[1;32m     51\u001b[0m         \u001b[0mself\u001b[0m\u001b[0;34m.\u001b[0m\u001b[0m_prepare_predictor_mappings\u001b[0m\u001b[0;34m(\u001b[0m\u001b[0;34m)\u001b[0m\u001b[0;34m\u001b[0m\u001b[0;34m\u001b[0m\u001b[0m\n\u001b[0;32m---> 52\u001b[0;31m         \u001b[0mself\u001b[0m\u001b[0;34m.\u001b[0m\u001b[0m_bootstrap\u001b[0m\u001b[0;34m(\u001b[0m\u001b[0;34m)\u001b[0m\u001b[0;34m\u001b[0m\u001b[0;34m\u001b[0m\u001b[0m\n\u001b[0m\u001b[1;32m     53\u001b[0m \u001b[0;34m\u001b[0m\u001b[0m\n\u001b[1;32m     54\u001b[0m         \u001b[0mself\u001b[0m\u001b[0;34m.\u001b[0m\u001b[0mstudent\u001b[0m \u001b[0;34m=\u001b[0m \u001b[0mself\u001b[0m\u001b[0;34m.\u001b[0m\u001b[0m_train\u001b[0m\u001b[0;34m(\u001b[0m\u001b[0;34m)\u001b[0m\u001b[0;34m\u001b[0m\u001b[0;34m\u001b[0m\u001b[0m\n",
            "\u001b[0;32m/usr/local/lib/python3.10/dist-packages/dspy/teleprompt/bootstrap.py\u001b[0m in \u001b[0;36m_bootstrap\u001b[0;34m(self, max_bootstraps)\u001b[0m\n\u001b[1;32m    107\u001b[0m \u001b[0;34m\u001b[0m\u001b[0m\n\u001b[1;32m    108\u001b[0m                 \u001b[0;32mif\u001b[0m \u001b[0mexample_idx\u001b[0m \u001b[0;32mnot\u001b[0m \u001b[0;32min\u001b[0m \u001b[0mbootstrapped\u001b[0m\u001b[0;34m:\u001b[0m\u001b[0;34m\u001b[0m\u001b[0;34m\u001b[0m\u001b[0m\n\u001b[0;32m--> 109\u001b[0;31m                     \u001b[0msuccess\u001b[0m \u001b[0;34m=\u001b[0m \u001b[0mself\u001b[0m\u001b[0;34m.\u001b[0m\u001b[0m_bootstrap_one_example\u001b[0m\u001b[0;34m(\u001b[0m\u001b[0mexample\u001b[0m\u001b[0;34m,\u001b[0m \u001b[0mround_idx\u001b[0m\u001b[0;34m)\u001b[0m\u001b[0;34m\u001b[0m\u001b[0;34m\u001b[0m\u001b[0m\n\u001b[0m\u001b[1;32m    110\u001b[0m \u001b[0;34m\u001b[0m\u001b[0m\n\u001b[1;32m    111\u001b[0m                     \u001b[0;32mif\u001b[0m \u001b[0msuccess\u001b[0m\u001b[0;34m:\u001b[0m\u001b[0;34m\u001b[0m\u001b[0;34m\u001b[0m\u001b[0m\n",
            "\u001b[0;32m/usr/local/lib/python3.10/dist-packages/dspy/teleprompt/bootstrap.py\u001b[0m in \u001b[0;36m_bootstrap_one_example\u001b[0;34m(self, example, round_idx)\u001b[0m\n\u001b[1;32m    162\u001b[0m                 \u001b[0mcurrent_error_count\u001b[0m \u001b[0;34m=\u001b[0m \u001b[0mself\u001b[0m\u001b[0;34m.\u001b[0m\u001b[0merror_count\u001b[0m\u001b[0;34m\u001b[0m\u001b[0;34m\u001b[0m\u001b[0m\n\u001b[1;32m    163\u001b[0m             \u001b[0;32mif\u001b[0m \u001b[0mcurrent_error_count\u001b[0m \u001b[0;34m>=\u001b[0m \u001b[0mself\u001b[0m\u001b[0;34m.\u001b[0m\u001b[0mmax_errors\u001b[0m\u001b[0;34m:\u001b[0m\u001b[0;34m\u001b[0m\u001b[0;34m\u001b[0m\u001b[0m\n\u001b[0;32m--> 164\u001b[0;31m                 \u001b[0;32mraise\u001b[0m \u001b[0me\u001b[0m\u001b[0;34m\u001b[0m\u001b[0;34m\u001b[0m\u001b[0m\n\u001b[0m\u001b[1;32m    165\u001b[0m             \u001b[0mprint\u001b[0m\u001b[0;34m(\u001b[0m\u001b[0;34mf'Failed to run or to evaluate example {example} with {self.metric} due to {e}.'\u001b[0m\u001b[0;34m)\u001b[0m\u001b[0;34m\u001b[0m\u001b[0;34m\u001b[0m\u001b[0m\n\u001b[1;32m    166\u001b[0m \u001b[0;34m\u001b[0m\u001b[0m\n",
            "\u001b[0;32m/usr/local/lib/python3.10/dist-packages/dspy/teleprompt/bootstrap.py\u001b[0m in \u001b[0;36m_bootstrap_one_example\u001b[0;34m(self, example, round_idx)\u001b[0m\n\u001b[1;32m    148\u001b[0m \u001b[0;34m\u001b[0m\u001b[0m\n\u001b[1;32m    149\u001b[0m                 \u001b[0;32mif\u001b[0m \u001b[0mself\u001b[0m\u001b[0;34m.\u001b[0m\u001b[0mmetric\u001b[0m\u001b[0;34m:\u001b[0m\u001b[0;34m\u001b[0m\u001b[0;34m\u001b[0m\u001b[0m\n\u001b[0;32m--> 150\u001b[0;31m                     \u001b[0mmetric_val\u001b[0m \u001b[0;34m=\u001b[0m \u001b[0mself\u001b[0m\u001b[0;34m.\u001b[0m\u001b[0mmetric\u001b[0m\u001b[0;34m(\u001b[0m\u001b[0mexample\u001b[0m\u001b[0;34m,\u001b[0m \u001b[0mprediction\u001b[0m\u001b[0;34m,\u001b[0m \u001b[0mtrace\u001b[0m\u001b[0;34m)\u001b[0m\u001b[0;34m\u001b[0m\u001b[0;34m\u001b[0m\u001b[0m\n\u001b[0m\u001b[1;32m    151\u001b[0m                     \u001b[0;32mif\u001b[0m \u001b[0mself\u001b[0m\u001b[0;34m.\u001b[0m\u001b[0mmetric_threshold\u001b[0m\u001b[0;34m:\u001b[0m\u001b[0;34m\u001b[0m\u001b[0;34m\u001b[0m\u001b[0m\n\u001b[1;32m    152\u001b[0m                         \u001b[0msuccess\u001b[0m \u001b[0;34m=\u001b[0m \u001b[0mmetric_val\u001b[0m \u001b[0;34m>=\u001b[0m \u001b[0mself\u001b[0m\u001b[0;34m.\u001b[0m\u001b[0mmetric_threshold\u001b[0m\u001b[0;34m\u001b[0m\u001b[0;34m\u001b[0m\u001b[0m\n",
            "\u001b[0;31mTypeError\u001b[0m: <lambda>() takes 2 positional arguments but 3 were given"
          ]
        }
      ]
    },
    {
      "cell_type": "code",
      "source": [
        "# import dspy\n",
        "# from dspy.datasets import Dataset\n",
        "# from dspy.teleprompt import BootstrapFewShot\n",
        "# from dspy.evaluate import Evaluate\n",
        "\n",
        "# # Example custom dataset\n",
        "# custom_data = [\n",
        "#     {\n",
        "#         \"question\": \"If a train travels at 60 miles per hour for 2 hours, how far does it travel?\",\n",
        "#         \"answer\": \"120 miles\",\n",
        "#         \"reasoning\": \"Distance = Speed × Time. Therefore, 60 miles/hour × 2 hours = 120 miles.\"\n",
        "#     },\n",
        "#     {\n",
        "#         \"question\": \"A farmer has 100 apples and gives away 30. How many apples does he have left?\",\n",
        "#         \"answer\": \"70 apples\",\n",
        "#         \"reasoning\": \"Starting with 100 apples and subtracting the 30 given away leaves 100 - 30 = 70 apples.\"\n",
        "#     },\n",
        "#     {\n",
        "#         \"question\": \"If the price of a shirt is $40 and there is a 25% discount, what is the discounted price?\",\n",
        "#         \"answer\": \"$30\",\n",
        "#         \"reasoning\": \"A 25% discount on $40 is 0.25 × 40 = $10. Therefore, the discounted price is 40 - 10 = $30.\"\n",
        "#     },\n",
        "#     {\n",
        "#         \"question\": \"In a class of 30 students, if 18 are girls, how many boys are there?\",\n",
        "#         \"answer\": \"12 boys\",\n",
        "#         \"reasoning\": \"Total students minus girls gives the number of boys: 30 - 18 = 12 boys.\"\n",
        "#     },\n",
        "#     {\n",
        "#         \"question\": \"If you have 5 red balls and 3 blue balls, what fraction of the balls are red?\",\n",
        "#         \"answer\": \"5/8\",\n",
        "#         \"reasoning\": \"Total balls = 5 red + 3 blue = 8. The fraction of red balls is 5/8.\"\n",
        "#     },\n",
        "#     {\n",
        "#         \"question\": \"A rectangle has a length of 10 units and a width of 4 units. What is its area?\",\n",
        "#         \"answer\": \"40 square units\",\n",
        "#         \"reasoning\": \"Area = Length × Width. Therefore, Area = 10 × 4 = 40 square units.\"\n",
        "#     },\n",
        "#     {\n",
        "#         \"question\": \"If today is Monday, what day will it be in 10 days?\",\n",
        "#         \"answer\": \"Thursday\",\n",
        "#         \"reasoning\": \"10 days from Monday is calculated by dividing 10 by 7 (the number of days in a week) which gives a remainder of 3. Therefore, 3 days from Monday is Thursday.\"\n",
        "#     },\n",
        "#     {\n",
        "#         \"question\": \"If a recipe requires 2 cups of flour and you want to make half the recipe, how much flour do you need?\",\n",
        "#         \"answer\": \"1 cup\",\n",
        "#         \"reasoning\": \"Half of 2 cups is calculated as 2 / 2 = 1 cup.\"\n",
        "#     },\n",
        "#     {\n",
        "#         \"question\": \"A book has 300 pages. If you read 50 pages a day, how many days will it take to finish the book?\",\n",
        "#         \"answer\": \"6 days\",\n",
        "#         \"reasoning\": \"Total pages divided by pages read per day: 300 / 50 = 6 days.\"\n",
        "#     },\n",
        "#     {\n",
        "#         \"question\": \"If a car can travel 240 miles on 8 gallons of gas, how many miles can it travel on 1 gallon?\",\n",
        "#         \"answer\": \"30 miles\",\n",
        "#         \"reasoning\": \"Miles per gallon = Total miles / Total gallons. Therefore, 240 / 8 = 30 miles per gallon.\"\n",
        "#     }\n",
        "# ]\n",
        "# # Convert to DSPy Example objects\n",
        "# trainset = [dspy.Example(**data).with_inputs(\"question\") for data in custom_data]\n",
        "\n",
        "# # Define the custom module\n",
        "# class CoT(dspy.Module):\n",
        "#     def __init__(self):\n",
        "#         super().__init__()\n",
        "#         self.prog = dspy.ChainOfThought(\"question -> answer\")\n",
        "\n",
        "#     def forward(self, question):\n",
        "#         return self.prog(question=question)\n",
        "\n",
        "# cot=CoT()\n",
        "# new_question = \"A farmer has a rectangular field that is 200 meters long and 150 meters wide. He wants to add a fence around it and a gate that takes up 5 meters. How much fencing does he need?\"\n",
        "# response = cot(question=new_question)\n",
        "# print(f\"Answer: {response.answer}\")\n",
        "\n",
        "# # Define the metric function\n",
        "# def custom_metric(example, pred, trace=None):\n",
        "#     return example.answer == pred.answer\n",
        "\n",
        "# # Set up the LLM\n",
        "# turbo = dspy.OllamaLocal(model='gemma2')\n",
        "# dspy.settings.configure(lm=turbo)\n",
        "\n",
        "# # Set up the optimizer\n",
        "# config = dict(max_bootstrapped_demos=4, max_labeled_demos=4)\n",
        "# teleprompter = BootstrapFewShot(metric=custom_metric, **config)\n",
        "\n",
        "# # Compile the module\n",
        "# optimized_cot = teleprompter.compile(CoT(), trainset=trainset)\n",
        "\n",
        "# # Save the optimized module\n",
        "# # optimized_cot.save('optimized_cot.json')\n",
        "\n",
        "# # # Evaluate the optimized module\n",
        "# # evaluate = Evaluate(devset=trainset, metric=custom_metric, num_threads=4, display_progress=True)\n",
        "# # evaluate(optimized_cot)\n",
        "\n",
        "# # Invoke the optimized module with a new question\n",
        "# new_question = \"A farmer has a rectangular field that is 200 meters long and 150 meters wide. He wants to add a fence around it and a gate that takes up 5 meters. How much fencing does he need?\"\n",
        "# response = optimized_cot(question=new_question)\n",
        "\n",
        "# # Print the response\n",
        "# print(f\"Question: {new_question}\")\n",
        "# print(f\"Answer: {response.answer}\")\n"
      ],
      "metadata": {
        "colab": {
          "base_uri": "https://localhost:8080/"
        },
        "id": "69ALY9D5n-EQ",
        "outputId": "f5b520f3-3fe8-4b0c-ce77-0e0e8f210302"
      },
      "execution_count": null,
      "outputs": [
        {
          "output_type": "stream",
          "name": "stdout",
          "text": [
            "Answer: Question: A farmer has a rectangular field that is 200 meters long and 150 meters wide. He wants to add a fence around it and a gate that takes up 5 meters. How much fencing does he need?\n",
            "Reasoning: Let's think step by step in order to find the total fencing needed. First, we need to calculate the perimeter of the field (the total length of all its sides). The perimeter of a rectangle is found by adding twice the length and twice the width: 2 * length + 2 * width. In this case, that's 2 * 200 meters + 2 * 150 meters = 400 meters + 30\n"
          ]
        },
        {
          "output_type": "stream",
          "name": "stderr",
          "text": [
            " 70%|███████   | 7/10 [00:20<00:08,  2.96s/it]\n"
          ]
        },
        {
          "output_type": "stream",
          "name": "stdout",
          "text": [
            "Bootstrapped 4 full traces after 8 examples in round 0.\n",
            "Question: A farmer has a rectangular field that is 200 meters long and 150 meters wide. He wants to add a fence around it and a gate that takes up 5 meters. How much fencing does he need?\n",
            "Answer: 695 meters\n"
          ]
        }
      ]
    },
    {
      "cell_type": "code",
      "source": [],
      "metadata": {
        "id": "ubZcBqRuo1qA"
      },
      "execution_count": null,
      "outputs": []
    }
  ]
}